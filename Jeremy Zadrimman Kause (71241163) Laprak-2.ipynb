{
 "cells": [
  {
   "cell_type": "code",
   "execution_count": 6,
   "id": "31d362f2-4a5b-4429-9a01-a071b60f67c0",
   "metadata": {},
   "outputs": [
    {
     "name": "stdin",
     "output_type": "stream",
     "text": [
      "Masukkan tinggi badan dalam meter:  1.75\n",
      "Masukkan nilai Body Mass Index (BMI):  22\n"
     ]
    },
    {
     "name": "stdout",
     "output_type": "stream",
     "text": [
      "67.38\n"
     ]
    }
   ],
   "source": [
    "tinggiBadan = float(input(\"Masukkan tinggi badan dalam meter: \"))\n",
    "bmi = float(input(\"Masukkan nilai Body Mass Index (BMI): \"))\n",
    "beratBadan = tinggiBadan**2 * bmi\n",
    "print(round(beratBadan,2))"
   ]
  },
  {
   "cell_type": "code",
   "execution_count": 6,
   "id": "f22a9cbe-be97-468e-9529-5759a43ea2b3",
   "metadata": {},
   "outputs": [
    {
     "name": "stdin",
     "output_type": "stream",
     "text": [
      "Masukkan bilangan bulat:  5\n"
     ]
    },
    {
     "name": "stdout",
     "output_type": "stream",
     "text": [
      "263.0\n"
     ]
    }
   ],
   "source": [
    "x = int(input(\"Masukkan bilangan bulat: \"))\n",
    "fungsi = (2*x**3) + (2*x) + (15/x)\n",
    "print(fungsi)"
   ]
  },
  {
   "cell_type": "code",
   "execution_count": 8,
   "id": "6cf5b99a-06e6-40b5-b068-1e55941c162d",
   "metadata": {},
   "outputs": [
    {
     "name": "stdin",
     "output_type": "stream",
     "text": [
      "Gaji perjam yang diinginkan:  25000\n",
      "Jam kerja dalam seminggu:  25\n"
     ]
    },
    {
     "name": "stdout",
     "output_type": "stream",
     "text": [
      "Pendapatan Budi selama libur musim panas sebelum melakukan pembayaran pajak: 3125000.0\n",
      "Pendapatan Budi selama libur musim panas setelah melakukan pembayaran pajak: 2687500.0\n",
      "Jumlah uang yang akan Budi habiskan untuk membeli pakaian dan aksesoris: 268750.0\n",
      "Jumlah uang yang akan Budi habiskan untuk membeli alat tulis: 26875.0\n",
      "Jumlah uang yang akan Budi sedekahkan: 597968.75\n",
      "Jumlah uang yang akan diterima anak yatim: 179100.0\n",
      "Jumlah uang yang akan diterima kaum dhuafa: 418868.75\n"
     ]
    }
   ],
   "source": [
    "gajiPerJam = int(input(\"Gaji perjam yang diinginkan: \"))\n",
    "waktuKerja = float(input(\"Jam kerja dalam seminggu: \"))\n",
    "gajiKotor = (gajiPerJam * waktuKerja) * 5\n",
    "print(\"Pendapatan Budi selama libur musim panas sebelum melakukan pembayaran pajak:\",gajiKotor)\n",
    "gajiBersih = gajiKotor - (gajiKotor * 14/100)\n",
    "print(\"Pendapatan Budi selama libur musim panas setelah melakukan pembayaran pajak:\",gajiBersih)\n",
    "bajuAksesoris = gajiBersih * 0.1\n",
    "print(\"Jumlah uang yang akan Budi habiskan untuk membeli pakaian dan aksesoris:\",bajuAksesoris)\n",
    "alatTulis = gajiBersih * 1/100\n",
    "print(\"Jumlah uang yang akan Budi habiskan untuk membeli alat tulis:\",alatTulis)\n",
    "sisaUang = gajiBersih - (bajuAksesoris + alatTulis)\n",
    "sedekah = sisaUang * 25/100\n",
    "print(\"Jumlah uang yang akan Budi sedekahkan:\",sedekah)\n",
    "anakYatim = (sedekah // 1000) * (1000 * 0.3)\n",
    "print(\"Jumlah uang yang akan diterima anak yatim:\",anakYatim)\n",
    "kaumDhuafa = sedekah - anakYatim\n",
    "print(\"Jumlah uang yang akan diterima kaum dhuafa:\",kaumDhuafa)"
   ]
  }
 ],
 "metadata": {
  "kernelspec": {
   "display_name": "Python [conda env:base] *",
   "language": "python",
   "name": "conda-base-py"
  },
  "language_info": {
   "codemirror_mode": {
    "name": "ipython",
    "version": 3
   },
   "file_extension": ".py",
   "mimetype": "text/x-python",
   "name": "python",
   "nbconvert_exporter": "python",
   "pygments_lexer": "ipython3",
   "version": "3.12.7"
  }
 },
 "nbformat": 4,
 "nbformat_minor": 5
}
