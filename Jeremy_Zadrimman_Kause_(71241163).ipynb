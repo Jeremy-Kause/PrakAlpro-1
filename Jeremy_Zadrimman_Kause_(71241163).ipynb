{
  "cells": [
    {
      "cell_type": "code",
      "execution_count": null,
      "metadata": {
        "colab": {
          "base_uri": "https://localhost:8080/"
        },
        "id": "NcXKiZWo82Ad",
        "outputId": "3f8bca95-cad5-4e94-e31d-071d4d1a1e13"
      },
      "outputs": [
        {
          "name": "stdout",
          "output_type": "stream",
          "text": [
            "Masukkan suhu tubuh anak anda: Tiga\n",
            "invalid literal for int() with base 10: 'Tiga'\n"
          ]
        }
      ],
      "source": [
        "try:\n",
        "      suhuTubuh = int(input(\"Masukkan suhu tubuh anak anda: \"))\n",
        "      if suhuTubuh >= 38:\n",
        "            print(\"Deman\")\n",
        "      else:\n",
        "            print(\"Tidah Demam\")\n",
        "except Exception as e:\n",
        "      print(e)"
      ]
    },
    {
      "cell_type": "code",
      "execution_count": 16,
      "metadata": {
        "colab": {
          "base_uri": "https://localhost:8080/"
        },
        "id": "Wug2fe5t9_tS",
        "outputId": "a8c2108b-b875-46b3-8719-74fc76f1b8e3"
      },
      "outputs": [
        {
          "name": "stdout",
          "output_type": "stream",
          "text": [
            "Masukkan suatu bilangan: atiga\n",
            "invalid literal for int() with base 10: 'atiga'\n"
          ]
        }
      ],
      "source": [
        "try:\n",
        "    bilangan = int(input(\"Masukkan suatu bilangan: \"))\n",
        "    if bilangan > 0:\n",
        "        print(\"Positif\")\n",
        "    elif bilangan < 0:\n",
        "        print(\"Negatif\")\n",
        "    elif bilangan == 0:\n",
        "        print(\"Nol\")\n",
        "except Exception as e:\n",
        "    print(e)"
      ]
    },
    {
      "cell_type": "code",
      "execution_count": 17,
      "metadata": {
        "colab": {
          "base_uri": "https://localhost:8080/"
        },
        "id": "m73uKw9k-R4y",
        "outputId": "fd41d21e-dd61-420c-9972-d5996b8fbf6c"
      },
      "outputs": [
        {
          "name": "stdout",
          "output_type": "stream",
          "text": [
            "Masukkan bilangan pertama: tiga\n",
            "invalid literal for int() with base 10: 'tiga'\n"
          ]
        }
      ],
      "source": [
        "try:\n",
        "    a = int(input(\"Masukkan bilangan pertama: \"))\n",
        "    b = int(input(\"Masukkan bilangan kedua: \"))\n",
        "    c = int(input(\"Masukkan bilangan ketiga: \"))\n",
        "\n",
        "    if a > b and a > c:\n",
        "        print(\"Terbesar: \", a)\n",
        "    elif b > a and b > c:\n",
        "        print(\"Terbesar: \", b)\n",
        "    elif c > a and c > b:\n",
        "        print(\"Terbesar: \", c)\n",
        "except Exception as e:\n",
        "    print(e)"
      ]
    },
    {
      "cell_type": "code",
      "execution_count": null,
      "metadata": {
        "colab": {
          "base_uri": "https://localhost:8080/",
          "height": 53
        },
        "id": "WPoom2hT-fAF",
        "outputId": "d2a3f4e1-3193-49d5-9f3d-24fdebf3782a"
      },
      "outputs": [
        {
          "name": "stdout",
          "output_type": "stream",
          "text": [
            "Masukkan suatu bilangan: -5\n"
          ]
        },
        {
          "data": {
            "application/vnd.google.colaboratory.intrinsic+json": {
              "type": "string"
            },
            "text/plain": [
              "'Negatif'"
            ]
          },
          "execution_count": 20,
          "metadata": {},
          "output_type": "execute_result"
        }
      ],
      "source": [
        "try:\n",
        "    bilangan = int(input(\"Masukkan suatu bilangan: \"))\n",
        "    'Positif' if bilangan > 0 else 'Negatif' if bilangan < 0 else 'Nol'\n",
        "except Exception as e:\n",
        "    print(e)"
      ]
    },
    {
      "cell_type": "code",
      "execution_count": null,
      "metadata": {
        "colab": {
          "base_uri": "https://localhost:8080/"
        },
        "id": "uhdiXvHb-wPv",
        "outputId": "a4ab78a5-e62a-4122-a9ae-0759d342740c"
      },
      "outputs": [
        {
          "name": "stdout",
          "output_type": "stream",
          "text": [
            "Masukkan bulan (1-12): 15\n",
            "30\n"
          ]
        }
      ],
      "source": [
        "try:\n",
        "    bulan = int(input(\"Masukkan bulan (1-12): \"))\n",
        "    tanggal31 = [1,3,5,7,8,10,12]\n",
        "    tanggal30 = [4,6,9,11]\n",
        "    if bulan in tanggal31:\n",
        "        print(\"31\")\n",
        "    elif bulan == 2:\n",
        "        print(\"29\")\n",
        "    elif bulan in tanggal30:\n",
        "        print('30')\n",
        "    else:\n",
        "        print(\"Input hanya dari 1-12\")\n",
        "except Exception as e:\n",
        "    print(e)"
      ]
    },
    {
      "cell_type": "code",
      "execution_count": 36,
      "metadata": {
        "colab": {
          "base_uri": "https://localhost:8080/"
        },
        "id": "DMcElE-OANdL",
        "outputId": "12569a08-11ef-405d-b094-de7c6e96408e"
      },
      "outputs": [
        {
          "name": "stdout",
          "output_type": "stream",
          "text": [
            "Masukkan panjang sisi satu1: 3\n",
            "Massukan panjang sisi dua: 4\n",
            "Masukkan panjang sisi tiga: lima\n",
            "invalid literal for int() with base 10: 'lima'\n"
          ]
        }
      ],
      "source": [
        "try:\n",
        "  sisi_satu = int(input(\"Masukkan panjang sisi satu1: \"))\n",
        "  sisi_dua = int(input(\"Massukan panjang sisi dua: \"))\n",
        "  sisi_tiga = int(input(\"Masukkan panjang sisi tiga: \"))\n",
        "  if sisi_satu == sisi_dua and sisi_satu == sisi_tiga:\n",
        "    print(\"Tiga sisi sama\")\n",
        "  elif sisi_satu == sisi_dua or sisi_satu == sisi_tiga or sisi_dua == sisi_tiga:\n",
        "    print(\"2 sisi sama\")\n",
        "  else:\n",
        "    print(\"Tidak ada yang sama\")\n",
        "except Exception as e:\n",
        "  print(e)"
      ]
    }
  ],
  "metadata": {
    "colab": {
      "provenance": []
    },
    "kernelspec": {
      "display_name": "Python 3",
      "name": "python3"
    },
    "language_info": {
      "name": "python"
    }
  },
  "nbformat": 4,
  "nbformat_minor": 0
}
