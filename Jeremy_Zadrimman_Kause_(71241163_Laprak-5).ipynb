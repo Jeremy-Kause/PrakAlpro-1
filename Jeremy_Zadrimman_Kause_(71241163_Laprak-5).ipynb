{
  "nbformat": 4,
  "nbformat_minor": 0,
  "metadata": {
    "colab": {
      "provenance": []
    },
    "kernelspec": {
      "name": "python3",
      "display_name": "Python 3"
    },
    "language_info": {
      "name": "python"
    }
  },
  "cells": [
    {
      "cell_type": "code",
      "source": [
        "def cek_angka(a,b,c):\n",
        "    if a != b !=c != a:\n",
        "        if a + b == c or b + c == a or c + a == b:\n",
        "            return True\n",
        "        else:\n",
        "            return False\n",
        "    else:\n",
        "        return False\n",
        "\n",
        "print(cek_angka(1,2,3))\n",
        "print(cek_angka(4,4,8))"
      ],
      "metadata": {
        "id": "nMdjJd5AN2ys",
        "colab": {
          "base_uri": "https://localhost:8080/"
        },
        "outputId": "80563332-35f0-4f3d-d9b6-c24d6a1465bc"
      },
      "execution_count": null,
      "outputs": [
        {
          "output_type": "stream",
          "name": "stdout",
          "text": [
            "True\n",
            "False\n"
          ]
        }
      ]
    },
    {
      "cell_type": "code",
      "source": [
        "def cek_digit_belakang(a,b,c):\n",
        "    kanan1 = a % 10\n",
        "    kanan2 = b % 10\n",
        "    kanan3 = c % 10\n",
        "    if kanan1 == kanan2 or kanan2 == kanan3 or kanan3 == kanan1:\n",
        "        return True\n",
        "    else:\n",
        "        return False\n",
        "print(cek_digit_belakang(30, 20, 18))\n",
        "print(cek_digit_belakang(145, 5, 100))\n",
        "print(cek_digit_belakang(71, 187, 18))\n",
        "print(cek_digit_belakang(1024, 14, 94))\n",
        "print(cek_digit_belakang(53, 8900, 658))"
      ],
      "metadata": {
        "colab": {
          "base_uri": "https://localhost:8080/"
        },
        "id": "f7KH1muriUQS",
        "outputId": "8892b7d4-1983-43a3-a96d-578fd5062d19"
      },
      "execution_count": 5,
      "outputs": [
        {
          "output_type": "stream",
          "name": "stdout",
          "text": [
            "True\n",
            "True\n",
            "False\n",
            "True\n",
            "False\n"
          ]
        }
      ]
    },
    {
      "cell_type": "code",
      "source": [
        "f = lambda F : (9/5)* F + 32\n",
        "r = lambda R : 0.8 * R\n",
        "\n",
        "print(int(f(100)))\n",
        "print(int(r(80)))\n",
        "print(int(f(0)))"
      ],
      "metadata": {
        "colab": {
          "base_uri": "https://localhost:8080/"
        },
        "id": "SoNILa_7k0fw",
        "outputId": "e8607a25-089d-479b-eb7e-c6bc97100bce"
      },
      "execution_count": 1,
      "outputs": [
        {
          "output_type": "stream",
          "name": "stdout",
          "text": [
            "212\n",
            "64\n",
            "32\n"
          ]
        }
      ]
    }
  ]
}